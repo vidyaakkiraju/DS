{
  "nbformat": 4,
  "nbformat_minor": 0,
  "metadata": {
    "colab": {
      "name": "Vidya Akkiraju - Python Test Level 0.ipynb",
      "provenance": [],
      "collapsed_sections": [],
      "include_colab_link": true
    },
    "language_info": {
      "codemirror_mode": {
        "name": "ipython",
        "version": 3
      },
      "file_extension": ".py",
      "mimetype": "text/x-python",
      "name": "python",
      "nbconvert_exporter": "python",
      "pygments_lexer": "ipython3",
      "version": "3.6.8"
    },
    "kernelspec": {
      "display_name": "Python 3",
      "language": "python",
      "name": "python3"
    }
  },
  "cells": [
    {
      "cell_type": "markdown",
      "metadata": {
        "id": "view-in-github",
        "colab_type": "text"
      },
      "source": [
        "<a href=\"https://colab.research.google.com/github/vidyaakkiraju/DS/blob/master/Vidya_Akkiraju_Python_Test_Level_0.ipynb\" target=\"_parent\"><img src=\"https://colab.research.google.com/assets/colab-badge.svg\" alt=\"Open In Colab\"/></a>"
      ]
    },
    {
      "cell_type": "markdown",
      "metadata": {
        "colab_type": "text",
        "id": "n0j8VqHv9QsH"
      },
      "source": [
        "## 1(points 1)\n",
        "Return the size of list.<br>\n",
        "Example- list_size([1,2,3,4]) --> 4"
      ]
    },
    {
      "cell_type": "code",
      "metadata": {
        "colab_type": "code",
        "deletable": false,
        "id": "zcyRgbn09QsN",
        "nbgrader": {
          "checksum": "8fe7b2a9f1649001b0483954a7a2d592",
          "grade": false,
          "grade_id": "cell-4ea7ecd582660607",
          "locked": false,
          "schema_version": 1,
          "solution": true
        },
        "colab": {}
      },
      "source": [
        "def list_size(l):\n",
        "    # code here\n",
        "    return len(l)\n"
      ],
      "execution_count": 5,
      "outputs": []
    },
    {
      "cell_type": "code",
      "metadata": {
        "colab_type": "code",
        "deletable": false,
        "editable": false,
        "id": "hCLfvyVq9s3z",
        "nbgrader": {
          "checksum": "d2bfd8d397df26ed449b42a0820fc486",
          "grade": true,
          "grade_id": "cell-d03ede8261ade7b1",
          "locked": true,
          "points": 1,
          "schema_version": 1,
          "solution": false
        },
        "colab": {
          "base_uri": "https://localhost:8080/",
          "height": 35
        },
        "outputId": "af173787-7017-4dfa-8e7b-91e5450fa1ec"
      },
      "source": [
        "\"\"\"Testing code for last element\"\"\"\n",
        "assert list_size([1,2,3,4,5 ]) == 5\n",
        "\n",
        "\n",
        "print(\"Sample Tests passed\", '\\U0001F44D')"
      ],
      "execution_count": 7,
      "outputs": [
        {
          "output_type": "stream",
          "text": [
            "Sample Tests passed 👍\n"
          ],
          "name": "stdout"
        }
      ]
    },
    {
      "cell_type": "markdown",
      "metadata": {
        "colab_type": "text",
        "id": "t2aNdEIG9Qsa"
      },
      "source": [
        "## 2(points 1)\n",
        "Return list of last five element of the given list.<br>\n",
        "Example- def last_five(['a','b','c','d','e','f','g','h'])-->['d','e','f','g','h']"
      ]
    },
    {
      "cell_type": "code",
      "metadata": {
        "colab_type": "code",
        "deletable": false,
        "id": "xRYCB1lW9Qsc",
        "nbgrader": {
          "checksum": "6f53f7655b91fded6e6020edad814e7f",
          "grade": false,
          "grade_id": "cell-016db993367a12c3",
          "locked": false,
          "schema_version": 1,
          "solution": true
        },
        "colab": {}
      },
      "source": [
        "def last_five(l):\n",
        "    # code here\n",
        "    return l[-5:]"
      ],
      "execution_count": 12,
      "outputs": []
    },
    {
      "cell_type": "code",
      "metadata": {
        "colab_type": "code",
        "deletable": false,
        "editable": false,
        "id": "gbycLMkR_pSI",
        "nbgrader": {
          "checksum": "36000ebda2b0fda99fb3744f4178f7cb",
          "grade": true,
          "grade_id": "cell-50a0e61c4a912ec2",
          "locked": true,
          "points": 1,
          "schema_version": 1,
          "solution": false
        },
        "colab": {
          "base_uri": "https://localhost:8080/",
          "height": 35
        },
        "outputId": "48e741f2-b655-4ada-ef6e-a65b886d3e35"
      },
      "source": [
        "\"\"\"Testing code for last five elements\"\"\"\n",
        "assert last_five([1,2,3,4,5,6,7]) == [3,4,5,6,7]\n",
        "\n",
        "\n",
        "print(\"Sample Tests passed\", '\\U0001F44D')"
      ],
      "execution_count": 13,
      "outputs": [
        {
          "output_type": "stream",
          "text": [
            "Sample Tests passed 👍\n"
          ],
          "name": "stdout"
        }
      ]
    },
    {
      "cell_type": "markdown",
      "metadata": {
        "colab_type": "text",
        "id": "6ZO5nlzG9Qsl"
      },
      "source": [
        "## 3(points 1)\n",
        "Check whether given element exists in the list or not. If it exists the return True otherwise return False .<br>\n",
        "Example - check_elem(['a','b','c','d','e','f','g','h'], 'a') -->True <br>\n",
        "          check_elem(['a','b','c','d','e','f','g','h'], 'k') --> False"
      ]
    },
    {
      "cell_type": "code",
      "metadata": {
        "colab_type": "code",
        "deletable": false,
        "id": "OLIbfvfQ9Qso",
        "nbgrader": {
          "checksum": "01443710dfc53d73fd24f8b6ccb14253",
          "grade": false,
          "grade_id": "cell-a69dc315a4b7af64",
          "locked": false,
          "schema_version": 1,
          "solution": true
        },
        "colab": {}
      },
      "source": [
        "def check_elem(l,elem):\n",
        "    # code here\n",
        "    if elem in l:\n",
        "      return True\n",
        "    else:\n",
        "      return False"
      ],
      "execution_count": 15,
      "outputs": []
    },
    {
      "cell_type": "code",
      "metadata": {
        "colab_type": "code",
        "deletable": false,
        "editable": false,
        "id": "0MN02b_fC1oz",
        "nbgrader": {
          "checksum": "f5a933dd669258c921b0fe3685d594f5",
          "grade": true,
          "grade_id": "cell-8124565837ba565a",
          "locked": true,
          "points": 0,
          "schema_version": 1,
          "solution": false
        },
        "colab": {
          "base_uri": "https://localhost:8080/",
          "height": 35
        },
        "outputId": "c7aa7946-5701-424e-9cb4-5bc51147cc88"
      },
      "source": [
        "\"\"\"Testing code to check check_elem \"\"\"\n",
        "assert check_elem([1,2,3,4,5,6,7],10) == False\n",
        "\n",
        "\n",
        "print(\"Sample Tests passed\", '\\U0001F44D')"
      ],
      "execution_count": 16,
      "outputs": [
        {
          "output_type": "stream",
          "text": [
            "Sample Tests passed 👍\n"
          ],
          "name": "stdout"
        }
      ]
    },
    {
      "cell_type": "markdown",
      "metadata": {
        "colab_type": "text",
        "id": "31a1hYUc9Qsv"
      },
      "source": [
        "## 4(points 1)\n",
        "Multiply the elements of a list and return the product.<br>\n",
        "Example- mult_value([1,2,3,4,5])-->120"
      ]
    },
    {
      "cell_type": "code",
      "metadata": {
        "colab_type": "code",
        "deletable": false,
        "id": "bX8apFe89Qsy",
        "nbgrader": {
          "checksum": "209fb522f6719800829eba8d7a25bfa4",
          "grade": false,
          "grade_id": "cell-475ae2a35856e5a0",
          "locked": false,
          "schema_version": 1,
          "solution": true
        },
        "colab": {}
      },
      "source": [
        "def mult_value(l):\n",
        "    # code here\n",
        "    k = 1\n",
        "    for item in l:\n",
        "      k *= item\n",
        "    return k"
      ],
      "execution_count": 21,
      "outputs": []
    },
    {
      "cell_type": "code",
      "metadata": {
        "colab_type": "code",
        "deletable": false,
        "editable": false,
        "id": "gY4cYDFtEK_8",
        "nbgrader": {
          "checksum": "41139b1010d2efb3d61fc2595c1cbca2",
          "grade": true,
          "grade_id": "cell-53c0f4136b48a1e6",
          "locked": true,
          "points": 1,
          "schema_version": 1,
          "solution": false
        },
        "colab": {
          "base_uri": "https://localhost:8080/",
          "height": 35
        },
        "outputId": "0b533cb0-5ba8-45aa-95cb-33536ddbf366"
      },
      "source": [
        "\"\"\"Testing code for mult_value \"\"\"\n",
        "assert mult_value([1,2,3,4]) == 24\n",
        "\n",
        "\n",
        "print(\"Sample Tests passed\", '\\U0001F44D')"
      ],
      "execution_count": 22,
      "outputs": [
        {
          "output_type": "stream",
          "text": [
            "Sample Tests passed 👍\n"
          ],
          "name": "stdout"
        }
      ]
    },
    {
      "cell_type": "markdown",
      "metadata": {
        "colab_type": "text",
        "id": "MIXqNGfJ9Qs6"
      },
      "source": [
        "## 5(points 1)\n",
        "Return the number of occurences of given element in a list.<br>\n",
        "Example- Element_rept([1,2,3,4,1,2,3,1,1,5] , 1)-->4<br>\n",
        "Element_rept(['a','f','g','h','c','s','d','f','a','b','c','d'], c)--> 2"
      ]
    },
    {
      "cell_type": "code",
      "metadata": {
        "colab_type": "code",
        "deletable": false,
        "id": "q81sESnt9Qs8",
        "nbgrader": {
          "checksum": "a2b9ca983300128e08c530e3f249026d",
          "grade": false,
          "grade_id": "cell-8b862b06e84772bf",
          "locked": false,
          "schema_version": 1,
          "solution": true
        },
        "colab": {}
      },
      "source": [
        "def Element_rept(l,element):\n",
        "    # code here\n",
        "    '''\n",
        "    count = 0\n",
        "    for item in l:\n",
        "      if item == element:\n",
        "        count += 1\n",
        "    return count '''\n",
        "    return(l.count(element))"
      ],
      "execution_count": 27,
      "outputs": []
    },
    {
      "cell_type": "code",
      "metadata": {
        "colab_type": "code",
        "deletable": false,
        "editable": false,
        "id": "wU6UX_grFoUB",
        "nbgrader": {
          "checksum": "635ad64c00965eec735a269d5d60f48b",
          "grade": true,
          "grade_id": "cell-a702834de0ce86f7",
          "locked": true,
          "points": 1,
          "schema_version": 1,
          "solution": false
        },
        "colab": {
          "base_uri": "https://localhost:8080/",
          "height": 35
        },
        "outputId": "af2d1902-3fa8-4381-f943-9af3a56eae08"
      },
      "source": [
        "\"\"\"Testing code to return the value after Multiplication \"\"\"\n",
        "assert Element_rept([1,4,1,2,3,1,5],10) == 0\n",
        "assert Element_rept(['k','f','g','h','k','s','d','f','a','b','c','d'],'k') == 2\n",
        "\n",
        "print(\"Sample Tests passed\", '\\U0001F44D')"
      ],
      "execution_count": 30,
      "outputs": [
        {
          "output_type": "stream",
          "text": [
            "Sample Tests passed 👍\n"
          ],
          "name": "stdout"
        }
      ]
    },
    {
      "cell_type": "markdown",
      "metadata": {
        "colab_type": "text",
        "id": "Fx_zx2Zw9QtD"
      },
      "source": [
        "## 6(points 1)\n",
        "Return the number of keys in a dictionary.<br>\n",
        "Example- dict_size({1:\"akshay\", 2:\"vikash\"})-->2"
      ]
    },
    {
      "cell_type": "code",
      "metadata": {
        "colab_type": "code",
        "deletable": false,
        "id": "OUswJgFM9QtG",
        "nbgrader": {
          "checksum": "6ef7da7aedfbe86a17d51cd9958c3978",
          "grade": false,
          "grade_id": "cell-5f395a5882659f1c",
          "locked": false,
          "schema_version": 1,
          "solution": true
        },
        "colab": {}
      },
      "source": [
        "def dict_size(d):\n",
        "    # code here\n",
        "    return len(d)"
      ],
      "execution_count": 31,
      "outputs": []
    },
    {
      "cell_type": "code",
      "metadata": {
        "colab_type": "code",
        "deletable": false,
        "editable": false,
        "id": "EgOAPhgMIfaT",
        "nbgrader": {
          "checksum": "165f351c12063d79d71256b4a5087943",
          "grade": true,
          "grade_id": "cell-1ced6f5a600fae1a",
          "locked": true,
          "points": 1,
          "schema_version": 1,
          "solution": false
        },
        "colab": {
          "base_uri": "https://localhost:8080/",
          "height": 35
        },
        "outputId": "204eaa9f-c732-41a1-a367-5c4aa6506f1e"
      },
      "source": [
        "\"\"\"Testing code to return the length\"\"\"\n",
        "\n",
        "assert dict_size({1:1,2:2,3:3 }) == 3\n",
        "\n",
        "\n",
        "print(\"Sample Tests passed\", '\\U0001F44D')"
      ],
      "execution_count": 33,
      "outputs": [
        {
          "output_type": "stream",
          "text": [
            "Sample Tests passed 👍\n"
          ],
          "name": "stdout"
        }
      ]
    },
    {
      "cell_type": "markdown",
      "metadata": {
        "colab_type": "text",
        "id": "vsYZWylf9QtN"
      },
      "source": [
        "## 7(points 1)\n",
        "Return sorted list of keys of a dictionary.<br>\n",
        "Examle- Sort_keyList({5:'IIT K',10:\"IIT Jodhpur\",3:\"IIT Jaipur\"})-->[3,5,10]"
      ]
    },
    {
      "cell_type": "code",
      "metadata": {
        "colab_type": "code",
        "deletable": false,
        "id": "zMIh2HB09QtP",
        "nbgrader": {
          "checksum": "5f8eef1bdb571cd555142ee03f25d704",
          "grade": false,
          "grade_id": "cell-873ae424c0c727f7",
          "locked": false,
          "schema_version": 1,
          "solution": true
        },
        "colab": {}
      },
      "source": [
        "def Sort_keyList(d):\n",
        "    # code here\n",
        "    '''\n",
        "    li = []\n",
        "    for key in d:\n",
        "      li.append(key)\n",
        "    return sorted(li)\n",
        "    '''\n",
        "    return sorted(d.keys())"
      ],
      "execution_count": 55,
      "outputs": []
    },
    {
      "cell_type": "code",
      "metadata": {
        "colab_type": "code",
        "deletable": false,
        "editable": false,
        "id": "yHxb17wCJl0n",
        "nbgrader": {
          "checksum": "6a06716723571886550a9d5219e906ea",
          "grade": true,
          "grade_id": "cell-d742cc724f24e259",
          "locked": true,
          "points": 1,
          "schema_version": 1,
          "solution": false
        },
        "colab": {
          "base_uri": "https://localhost:8080/",
          "height": 35
        },
        "outputId": "9d1e9160-e5b1-4694-f75d-0f2e66e71e4e"
      },
      "source": [
        "\"\"\"Testing code to sort the dictionary\"\"\"\n",
        "assert Sort_keyList({5:'IIT K',10:\"IIT Jodhpur\",3:\"IIT Jaipur\"}) == [3,5,10]\n",
        "\n",
        "\n",
        "print(\"Sample Tests passed\", '\\U0001F44D')"
      ],
      "execution_count": 56,
      "outputs": [
        {
          "output_type": "stream",
          "text": [
            "Sample Tests passed 👍\n"
          ],
          "name": "stdout"
        }
      ]
    },
    {
      "cell_type": "markdown",
      "metadata": {
        "colab_type": "text",
        "id": "QmGPnr8b9QtV"
      },
      "source": [
        "## 8(points 2)\n",
        "Check wether given number is prime or not. If yes then retun 1, otherwise return 0.<br>\n",
        "Example- is_prime(5) --> 1<br>\n",
        "         is_prime(4) --> 0"
      ]
    },
    {
      "cell_type": "code",
      "metadata": {
        "colab_type": "code",
        "deletable": false,
        "id": "OFk7Eu3S9QtY",
        "nbgrader": {
          "checksum": "03cbed5ecb2ebbc2c83ee7a9f9e9c47b",
          "grade": false,
          "grade_id": "cell-3d0177977d340dd4",
          "locked": false,
          "schema_version": 1,
          "solution": true
        },
        "colab": {}
      },
      "source": [
        "def is_prime(n):\n",
        "    # code here\n",
        "    if n == 2:\n",
        "      return 1\n",
        "    elif n ==1:\n",
        "      return 0 \n",
        "    else:\n",
        "      for i in range(2,10):\n",
        "        if (i != n) :\n",
        "          if n%i == 0:\n",
        "            return 0\n",
        "            break\n",
        "      return 1"
      ],
      "execution_count": 82,
      "outputs": []
    },
    {
      "cell_type": "code",
      "metadata": {
        "colab_type": "code",
        "deletable": false,
        "editable": false,
        "id": "P1kOLnOWLVuC",
        "nbgrader": {
          "checksum": "d29de1f01047516469d763323f1d97f0",
          "grade": true,
          "grade_id": "cell-ca1e99b17ed7b3c9",
          "locked": true,
          "points": 2,
          "schema_version": 1,
          "solution": false
        },
        "colab": {
          "base_uri": "https://localhost:8080/",
          "height": 35
        },
        "outputId": "d2077c89-67dd-4199-f942-d74542a9829b"
      },
      "source": [
        "\"\"\"Testing code to check given number is prime or not \"\"\"\n",
        "assert is_prime(13) == 1\n",
        "\n",
        "\n",
        "print(\"Sample Tests passed\", '\\U0001F44D')"
      ],
      "execution_count": 83,
      "outputs": [
        {
          "output_type": "stream",
          "text": [
            "Sample Tests passed 👍\n"
          ],
          "name": "stdout"
        }
      ]
    },
    {
      "cell_type": "markdown",
      "metadata": {
        "colab_type": "text",
        "id": "brmymJVE9Qtg"
      },
      "source": [
        "## 9(points 1)\n",
        "Using the above fuction to return list of prime number from a to b (including both a and b).<br>\n",
        "Example- primeNumberList(1,10)-->[2, 3, 5, 7]<br>\n",
        "        "
      ]
    },
    {
      "cell_type": "code",
      "metadata": {
        "colab_type": "code",
        "deletable": false,
        "id": "vRjYj9Oq9Qth",
        "nbgrader": {
          "checksum": "fbd6e2831e75bbdb5eb30a1a0155d39c",
          "grade": false,
          "grade_id": "cell-cc0a47cce1c28242",
          "locked": false,
          "schema_version": 1,
          "solution": true
        },
        "colab": {}
      },
      "source": [
        "def primeNumberList(a,b):\n",
        "    # code here\n",
        "    lst = []\n",
        "    for i in range(a,b):\n",
        "      if is_prime(i) == 1:\n",
        "        lst.append(i)\n",
        "    return lst\n",
        "      \n"
      ],
      "execution_count": 85,
      "outputs": []
    },
    {
      "cell_type": "code",
      "metadata": {
        "colab_type": "code",
        "deletable": false,
        "editable": false,
        "id": "VHMd5d13Mc8R",
        "nbgrader": {
          "checksum": "6e46f18a61a55c9d6b7a09a7abe39628",
          "grade": true,
          "grade_id": "cell-7b15a712a22ba93b",
          "locked": true,
          "points": 1,
          "schema_version": 1,
          "solution": false
        },
        "colab": {
          "base_uri": "https://localhost:8080/",
          "height": 35
        },
        "outputId": "1d3cfec0-3b3d-46ae-a3b3-cf443eb7de25"
      },
      "source": [
        "\"\"\"Testing code to list of prime number \"\"\"\n",
        "assert primeNumberList(2,10) == [2, 3, 5, 7]\n",
        "\n",
        "\n",
        "print(\"Sample Tests passed\", '\\U0001F44D')"
      ],
      "execution_count": 87,
      "outputs": [
        {
          "output_type": "stream",
          "text": [
            "Sample Tests passed 👍\n"
          ],
          "name": "stdout"
        }
      ]
    },
    {
      "cell_type": "markdown",
      "metadata": {
        "colab_type": "text",
        "id": "OkouAcn29Qtn"
      },
      "source": [
        "## 10(points 2)\n",
        "Return GCD of two number.<br>\n",
        "Example- Gcd(2,10)-->2<br>\n",
        "         Gcd(7,9)-->1"
      ]
    },
    {
      "cell_type": "code",
      "metadata": {
        "colab_type": "code",
        "deletable": false,
        "id": "D_ArTqaQ9Qto",
        "nbgrader": {
          "checksum": "24fed79a54f25564b77082c05ccd7216",
          "grade": false,
          "grade_id": "cell-b594c4e142f9275c",
          "locked": false,
          "schema_version": 1,
          "solution": true
        },
        "colab": {}
      },
      "source": [
        "def Gcd(a,b):\n",
        "    # code here\n",
        "    i = 1\n",
        "    k = 1\n",
        "    while (i <= a and i <= b):\n",
        "      if (a%i == 0 and b%i == 0):\n",
        "        k = i\n",
        "      i = i + 1\n",
        "    return k "
      ],
      "execution_count": 88,
      "outputs": []
    },
    {
      "cell_type": "code",
      "metadata": {
        "colab_type": "code",
        "deletable": false,
        "editable": false,
        "id": "X3A6sFyy9Qtu",
        "nbgrader": {
          "checksum": "85e46214820c61025201b14307992770",
          "grade": true,
          "grade_id": "cell-92b67715a65b4b0b",
          "locked": true,
          "points": 2,
          "schema_version": 1,
          "solution": false
        },
        "colab": {
          "base_uri": "https://localhost:8080/",
          "height": 35
        },
        "outputId": "38d19a01-95f7-4d60-e88d-2bea0abaf4cd"
      },
      "source": [
        "\"\"\"Testing code to return gcd\"\"\"\n",
        "assert Gcd(2,10) == 2\n",
        " \n",
        "\n",
        "print(\"Sample Tests passed\", '\\U0001F44D')"
      ],
      "execution_count": 89,
      "outputs": [
        {
          "output_type": "stream",
          "text": [
            "Sample Tests passed 👍\n"
          ],
          "name": "stdout"
        }
      ]
    },
    {
      "cell_type": "markdown",
      "metadata": {
        "id": "0eC4QtBrjgdj",
        "colab_type": "text"
      },
      "source": [
        "## 11(points 4)\n",
        "Return a list of k-element combinations of elements in a list l\n",
        "\n",
        "Example - comb([1, 2, 3, 4], 3) --> [[1, 2, 3], [1, 2, 4], [1, 3, 4], [2, 3, 4]]\n"
      ]
    },
    {
      "cell_type": "code",
      "metadata": {
        "deletable": false,
        "nbgrader": {
          "checksum": "572b086e0fca7af1b8673741054312ec",
          "grade": false,
          "grade_id": "cell-a0a00f70e28b12f6",
          "locked": false,
          "schema_version": 1,
          "solution": true
        },
        "id": "kzHOZeLthd5d",
        "colab_type": "code",
        "colab": {}
      },
      "source": [
        "def comb(l, k):\n",
        "  # code here\n",
        "    from itertools import combinations_with_replacement\n",
        "    kl = []\n",
        "    m =  combinations_with_replacement(l,k)\n",
        "    for i in list(m):\n",
        "      kl.append((list(i)))\n",
        "    return kl"
      ],
      "execution_count": 106,
      "outputs": []
    },
    {
      "cell_type": "code",
      "metadata": {
        "deletable": false,
        "editable": false,
        "nbgrader": {
          "checksum": "ece9bb76965b3de09fea59a704848b58",
          "grade": true,
          "grade_id": "cell-44880bb9c9f2437e",
          "locked": true,
          "points": 4,
          "schema_version": 1,
          "solution": false
        },
        "id": "v-qq0JKlhd5o",
        "colab_type": "code",
        "colab": {
          "base_uri": "https://localhost:8080/",
          "height": 35
        },
        "outputId": "baed3f80-b248-4bb3-e328-81205a278bd2"
      },
      "source": [
        "\"Testing code for comb\"\n",
        "assert [1, 2] in comb([1, 2, 3], 2)\n",
        "assert [1, 3] in comb([1, 2, 3], 2)\n",
        "assert [2, 3] in comb([1, 2, 3], 2)\n",
        "\n",
        "print(\"Sample Tests passed\", '\\U0001F44D')"
      ],
      "execution_count": 107,
      "outputs": [
        {
          "output_type": "stream",
          "text": [
            "Sample Tests passed 👍\n"
          ],
          "name": "stdout"
        }
      ]
    },
    {
      "cell_type": "code",
      "metadata": {
        "id": "v1FJEc_khd52",
        "colab_type": "code",
        "colab": {}
      },
      "source": [
        ""
      ],
      "execution_count": null,
      "outputs": []
    }
  ]
}